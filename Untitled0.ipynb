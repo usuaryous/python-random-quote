{
  "nbformat": 4,
  "nbformat_minor": 0,
  "metadata": {
    "colab": {
      "name": "Untitled0.ipynb",
      "provenance": [],
      "authorship_tag": "ABX9TyNyy4idnJk8vOtklxaRsEK7",
      "include_colab_link": true
    },
    "kernelspec": {
      "display_name": "Python 3",
      "name": "python3"
    }
  },
  "cells": [
    {
      "cell_type": "markdown",
      "metadata": {
        "id": "view-in-github",
        "colab_type": "text"
      },
      "source": [
        "<a href=\"https://colab.research.google.com/github/usuaryous/python-random-quote/blob/master/Untitled0.ipynb\" target=\"_parent\"><img src=\"https://colab.research.google.com/assets/colab-badge.svg\" alt=\"Open In Colab\"/></a>"
      ]
    },
    {
      "cell_type": "code",
      "metadata": {
        "colab": {
          "base_uri": "https://localhost:8080/"
        },
        "id": "zkS3PwQQU2Tj",
        "outputId": "63a8b229-2b6d-4e0a-c8fd-bd6a7dc9f379"
      },
      "source": [
        "#Ordenando uma lista\n",
        "\n",
        "lista = [1,6,7,9,3,4,87] \n",
        "list.reverse(lista) \n",
        "print(lista)\n"
      ],
      "execution_count": null,
      "outputs": [
        {
          "output_type": "stream",
          "text": [
            "[87, 4, 3, 9, 7, 6, 1]\n"
          ],
          "name": "stdout"
        }
      ]
    }
  ]
}